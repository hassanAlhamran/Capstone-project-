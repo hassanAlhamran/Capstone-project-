{
 "cells": [
  {
   "cell_type": "code",
   "execution_count": 50,
   "id": "9c92c73e-cf2f-4c0f-ae9b-9af845cfbeba",
   "metadata": {},
   "outputs": [],
   "source": [
    "import pandas as pd\n"
   ]
  },
  {
   "cell_type": "code",
   "execution_count": 53,
   "id": "06013d0c-73e0-4c7f-b26f-7f1958280f49",
   "metadata": {},
   "outputs": [],
   "source": [
    "df=pd.read_csv(\"traffic_accidents123.csv\")"
   ]
  },
  {
   "cell_type": "code",
   "execution_count": 54,
   "id": "82066dbf-d498-4e0d-9a60-ae351777cb95",
   "metadata": {},
   "outputs": [
    {
     "data": {
      "text/plain": [
       "crash_date                       0\n",
       "traffic_control_device           0\n",
       "weather_condition                0\n",
       "lighting_condition               0\n",
       "first_crash_type                 0\n",
       "trafficway_type                  0\n",
       "alignment                        0\n",
       "roadway_surface_cond             0\n",
       "road_defect                      0\n",
       "crash_type                       0\n",
       "intersection_related_i           0\n",
       "damage                           0\n",
       "prim_contributory_cause          0\n",
       "num_units                        0\n",
       "most_severe_injury               0\n",
       "injuries_total                   0\n",
       "injuries_fatal                   0\n",
       "injuries_incapacitating          0\n",
       "injuries_non_incapacitating      0\n",
       "injuries_reported_not_evident    0\n",
       "injuries_no_indication           0\n",
       "crash_hour                       0\n",
       "crash_day_of_week                0\n",
       "crash_month                      0\n",
       "dtype: int64"
      ]
     },
     "execution_count": 54,
     "metadata": {},
     "output_type": "execute_result"
    }
   ],
   "source": [
    "df.isnull().sum()"
   ]
  },
  {
   "cell_type": "code",
   "execution_count": 71,
   "id": "403f3b8b-7f02-4ee5-beab-ebaf74257a6d",
   "metadata": {},
   "outputs": [
    {
     "name": "stderr",
     "output_type": "stream",
     "text": [
      "C:\\Users\\Windows 10 Pro\\AppData\\Local\\Temp\\ipykernel_17196\\4384536.py:7: UserWarning: The argument 'infer_datetime_format' is deprecated and will be removed in a future version. A strict version of it is now the default, see https://pandas.pydata.org/pdeps/0004-consistent-to-datetime-parsing.html. You can safely remove this argument.\n",
      "  df['crash_date'] = pd.to_datetime(df['crash_date'], errors='coerce', infer_datetime_format=True)\n",
      "C:\\Users\\Windows 10 Pro\\AppData\\Local\\Temp\\ipykernel_17196\\4384536.py:7: UserWarning: Could not infer format, so each element will be parsed individually, falling back to `dateutil`. To ensure parsing is consistent and as-expected, please specify a format.\n",
      "  df['crash_date'] = pd.to_datetime(df['crash_date'], errors='coerce', infer_datetime_format=True)\n"
     ]
    },
    {
     "name": "stdout",
     "output_type": "stream",
     "text": [
      "Cleaning complete! File saved as traffic_accidents_cleaned.csv\n"
     ]
    },
    {
     "data": {
      "text/html": [
       "<div>\n",
       "<style scoped>\n",
       "    .dataframe tbody tr th:only-of-type {\n",
       "        vertical-align: middle;\n",
       "    }\n",
       "\n",
       "    .dataframe tbody tr th {\n",
       "        vertical-align: top;\n",
       "    }\n",
       "\n",
       "    .dataframe thead th {\n",
       "        text-align: right;\n",
       "    }\n",
       "</style>\n",
       "<table border=\"1\" class=\"dataframe\">\n",
       "  <thead>\n",
       "    <tr style=\"text-align: right;\">\n",
       "      <th></th>\n",
       "      <th>crash_date</th>\n",
       "      <th>traffic_control_device</th>\n",
       "      <th>weather_condition</th>\n",
       "      <th>lighting_condition</th>\n",
       "      <th>first_crash_type</th>\n",
       "      <th>trafficway_type</th>\n",
       "      <th>alignment</th>\n",
       "      <th>roadway_surface_cond</th>\n",
       "      <th>road_defect</th>\n",
       "      <th>crash_type</th>\n",
       "      <th>...</th>\n",
       "      <th>injuries_fatal</th>\n",
       "      <th>injuries_incapacitating</th>\n",
       "      <th>injuries_non_incapacitating</th>\n",
       "      <th>injuries_reported_not_evident</th>\n",
       "      <th>injuries_no_indication</th>\n",
       "      <th>crash_hour</th>\n",
       "      <th>crash_day_of_week</th>\n",
       "      <th>crash_month</th>\n",
       "      <th>crash_only_date</th>\n",
       "      <th>crash_only_time</th>\n",
       "    </tr>\n",
       "  </thead>\n",
       "  <tbody>\n",
       "    <tr>\n",
       "      <th>0</th>\n",
       "      <td>2023-07-29 13:00:00</td>\n",
       "      <td>TRAFFIC SIGNAL</td>\n",
       "      <td>CLEAR</td>\n",
       "      <td>DAYLIGHT</td>\n",
       "      <td>TURNING</td>\n",
       "      <td>NOT DIVIDED</td>\n",
       "      <td>STRAIGHT AND LEVEL</td>\n",
       "      <td>UNKNOWN</td>\n",
       "      <td>UNKNOWN</td>\n",
       "      <td>NO INJURY / DRIVE AWAY</td>\n",
       "      <td>...</td>\n",
       "      <td>0</td>\n",
       "      <td>0</td>\n",
       "      <td>0</td>\n",
       "      <td>0</td>\n",
       "      <td>3</td>\n",
       "      <td>13</td>\n",
       "      <td>7</td>\n",
       "      <td>7</td>\n",
       "      <td>2023-07-29</td>\n",
       "      <td>13:00:00</td>\n",
       "    </tr>\n",
       "    <tr>\n",
       "      <th>1</th>\n",
       "      <td>2023-08-13 00:11:00</td>\n",
       "      <td>TRAFFIC SIGNAL</td>\n",
       "      <td>CLEAR</td>\n",
       "      <td>DARKNESS, LIGHTED ROAD</td>\n",
       "      <td>TURNING</td>\n",
       "      <td>FOUR WAY</td>\n",
       "      <td>STRAIGHT AND LEVEL</td>\n",
       "      <td>DRY</td>\n",
       "      <td>NO DEFECTS</td>\n",
       "      <td>NO INJURY / DRIVE AWAY</td>\n",
       "      <td>...</td>\n",
       "      <td>0</td>\n",
       "      <td>0</td>\n",
       "      <td>0</td>\n",
       "      <td>0</td>\n",
       "      <td>2</td>\n",
       "      <td>0</td>\n",
       "      <td>1</td>\n",
       "      <td>8</td>\n",
       "      <td>2023-08-13</td>\n",
       "      <td>00:11:00</td>\n",
       "    </tr>\n",
       "    <tr>\n",
       "      <th>2</th>\n",
       "      <td>2021-12-09 10:30:00</td>\n",
       "      <td>TRAFFIC SIGNAL</td>\n",
       "      <td>CLEAR</td>\n",
       "      <td>DAYLIGHT</td>\n",
       "      <td>REAR END</td>\n",
       "      <td>T-INTERSECTION</td>\n",
       "      <td>STRAIGHT AND LEVEL</td>\n",
       "      <td>DRY</td>\n",
       "      <td>NO DEFECTS</td>\n",
       "      <td>NO INJURY / DRIVE AWAY</td>\n",
       "      <td>...</td>\n",
       "      <td>0</td>\n",
       "      <td>0</td>\n",
       "      <td>0</td>\n",
       "      <td>0</td>\n",
       "      <td>3</td>\n",
       "      <td>10</td>\n",
       "      <td>5</td>\n",
       "      <td>12</td>\n",
       "      <td>2021-12-09</td>\n",
       "      <td>10:30:00</td>\n",
       "    </tr>\n",
       "    <tr>\n",
       "      <th>3</th>\n",
       "      <td>2023-08-09 19:55:00</td>\n",
       "      <td>TRAFFIC SIGNAL</td>\n",
       "      <td>CLEAR</td>\n",
       "      <td>DAYLIGHT</td>\n",
       "      <td>ANGLE</td>\n",
       "      <td>FOUR WAY</td>\n",
       "      <td>STRAIGHT AND LEVEL</td>\n",
       "      <td>DRY</td>\n",
       "      <td>NO DEFECTS</td>\n",
       "      <td>INJURY AND / OR TOW DUE TO CRASH</td>\n",
       "      <td>...</td>\n",
       "      <td>0</td>\n",
       "      <td>0</td>\n",
       "      <td>5</td>\n",
       "      <td>0</td>\n",
       "      <td>0</td>\n",
       "      <td>19</td>\n",
       "      <td>4</td>\n",
       "      <td>8</td>\n",
       "      <td>2023-08-09</td>\n",
       "      <td>19:55:00</td>\n",
       "    </tr>\n",
       "    <tr>\n",
       "      <th>4</th>\n",
       "      <td>2023-08-19 14:55:00</td>\n",
       "      <td>TRAFFIC SIGNAL</td>\n",
       "      <td>CLEAR</td>\n",
       "      <td>DAYLIGHT</td>\n",
       "      <td>REAR END</td>\n",
       "      <td>T-INTERSECTION</td>\n",
       "      <td>STRAIGHT AND LEVEL</td>\n",
       "      <td>UNKNOWN</td>\n",
       "      <td>UNKNOWN</td>\n",
       "      <td>NO INJURY / DRIVE AWAY</td>\n",
       "      <td>...</td>\n",
       "      <td>0</td>\n",
       "      <td>0</td>\n",
       "      <td>0</td>\n",
       "      <td>0</td>\n",
       "      <td>3</td>\n",
       "      <td>14</td>\n",
       "      <td>7</td>\n",
       "      <td>8</td>\n",
       "      <td>2023-08-19</td>\n",
       "      <td>14:55:00</td>\n",
       "    </tr>\n",
       "  </tbody>\n",
       "</table>\n",
       "<p>5 rows × 26 columns</p>\n",
       "</div>"
      ],
      "text/plain": [
       "           crash_date traffic_control_device weather_condition  \\\n",
       "0 2023-07-29 13:00:00         TRAFFIC SIGNAL             CLEAR   \n",
       "1 2023-08-13 00:11:00         TRAFFIC SIGNAL             CLEAR   \n",
       "2 2021-12-09 10:30:00         TRAFFIC SIGNAL             CLEAR   \n",
       "3 2023-08-09 19:55:00         TRAFFIC SIGNAL             CLEAR   \n",
       "4 2023-08-19 14:55:00         TRAFFIC SIGNAL             CLEAR   \n",
       "\n",
       "       lighting_condition first_crash_type trafficway_type  \\\n",
       "0                DAYLIGHT          TURNING     NOT DIVIDED   \n",
       "1  DARKNESS, LIGHTED ROAD          TURNING        FOUR WAY   \n",
       "2                DAYLIGHT         REAR END  T-INTERSECTION   \n",
       "3                DAYLIGHT            ANGLE        FOUR WAY   \n",
       "4                DAYLIGHT         REAR END  T-INTERSECTION   \n",
       "\n",
       "            alignment roadway_surface_cond road_defect  \\\n",
       "0  STRAIGHT AND LEVEL              UNKNOWN     UNKNOWN   \n",
       "1  STRAIGHT AND LEVEL                  DRY  NO DEFECTS   \n",
       "2  STRAIGHT AND LEVEL                  DRY  NO DEFECTS   \n",
       "3  STRAIGHT AND LEVEL                  DRY  NO DEFECTS   \n",
       "4  STRAIGHT AND LEVEL              UNKNOWN     UNKNOWN   \n",
       "\n",
       "                         crash_type  ... injuries_fatal  \\\n",
       "0            NO INJURY / DRIVE AWAY  ...              0   \n",
       "1            NO INJURY / DRIVE AWAY  ...              0   \n",
       "2            NO INJURY / DRIVE AWAY  ...              0   \n",
       "3  INJURY AND / OR TOW DUE TO CRASH  ...              0   \n",
       "4            NO INJURY / DRIVE AWAY  ...              0   \n",
       "\n",
       "  injuries_incapacitating injuries_non_incapacitating  \\\n",
       "0                       0                           0   \n",
       "1                       0                           0   \n",
       "2                       0                           0   \n",
       "3                       0                           5   \n",
       "4                       0                           0   \n",
       "\n",
       "   injuries_reported_not_evident injuries_no_indication  crash_hour  \\\n",
       "0                              0                      3          13   \n",
       "1                              0                      2           0   \n",
       "2                              0                      3          10   \n",
       "3                              0                      0          19   \n",
       "4                              0                      3          14   \n",
       "\n",
       "   crash_day_of_week  crash_month  crash_only_date  crash_only_time  \n",
       "0                  7            7       2023-07-29         13:00:00  \n",
       "1                  1            8       2023-08-13         00:11:00  \n",
       "2                  5           12       2021-12-09         10:30:00  \n",
       "3                  4            8       2023-08-09         19:55:00  \n",
       "4                  7            8       2023-08-19         14:55:00  \n",
       "\n",
       "[5 rows x 26 columns]"
      ]
     },
     "execution_count": 71,
     "metadata": {},
     "output_type": "execute_result"
    }
   ],
   "source": [
    "import pandas as pd\n",
    "\n",
    "\n",
    "df = pd.read_csv(\"traffic_accidents123.csv\")\n",
    "\n",
    "\n",
    "df['crash_date'] = pd.to_datetime(df['crash_date'], errors='coerce', infer_datetime_format=True)\n",
    "\n",
    "\n",
    "df['crash_only_date'] = df['crash_date'].dt.date\n",
    "df['crash_only_time'] = df['crash_date'].dt.time\n",
    "\n",
    "\n",
    "df.to_csv(\"traffic_accidents_cleaned.csv\", index=False)\n",
    "\n",
    "print(\"Cleaning complete! File saved as traffic_accidents_cleaned.csv\")\n",
    "df.head()\n"
   ]
  },
  {
   "cell_type": "code",
   "execution_count": 72,
   "id": "06e4a21c-deeb-4893-8f89-47f6b5d717e9",
   "metadata": {},
   "outputs": [
    {
     "name": "stderr",
     "output_type": "stream",
     "text": [
      "C:\\Users\\Windows 10 Pro\\AppData\\Local\\Temp\\ipykernel_17196\\1447034427.py:1: UserWarning: The argument 'infer_datetime_format' is deprecated and will be removed in a future version. A strict version of it is now the default, see https://pandas.pydata.org/pdeps/0004-consistent-to-datetime-parsing.html. You can safely remove this argument.\n",
      "  df['crash_date'] = pd.to_datetime(df['crash_date'], errors='coerce', infer_datetime_format=True)\n"
     ]
    },
    {
     "name": "stdout",
     "output_type": "stream",
     "text": [
      "   crash_date\n",
      "0  2023-07-29\n",
      "1  2023-08-13\n",
      "2  2021-12-09\n",
      "3  2023-08-09\n",
      "4  2023-08-19\n"
     ]
    }
   ],
   "source": [
    "df['crash_date'] = pd.to_datetime(df['crash_date'], errors='coerce', infer_datetime_format=True)\n",
    "\n",
    "\n",
    "df['crash_date'] = df['crash_date'].dt.date\n",
    "\n",
    "\n",
    "df['crash_time'] = pd.to_datetime(df['crash_date'], errors='coerce').dt.time\n",
    "\n",
    "\n",
    "df.to_csv(\"traffic_accidents_cleaned.csv\", index=False)\n",
    "\n",
    "print(df[['crash_date']].head())"
   ]
  },
  {
   "cell_type": "code",
   "execution_count": 73,
   "id": "55b69019-67e4-4500-b4a9-3681bbc42b1c",
   "metadata": {},
   "outputs": [
    {
     "name": "stderr",
     "output_type": "stream",
     "text": [
      "C:\\Users\\Windows 10 Pro\\AppData\\Local\\Temp\\ipykernel_17196\\3506717748.py:6: UserWarning: Could not infer format, so each element will be parsed individually, falling back to `dateutil`. To ensure parsing is consistent and as-expected, please specify a format.\n",
      "  df['crash_date'] = pd.to_datetime(df['crash_date'], errors='coerce')\n"
     ]
    },
    {
     "name": "stdout",
     "output_type": "stream",
     "text": [
      "   crash_date\n",
      "0  07-29-2023\n",
      "1  08-13-2023\n",
      "2  12-09-2021\n",
      "3  08-09-2023\n",
      "4  08-19-2023\n",
      "5  09-06-2023\n",
      "6  12-20-2022\n",
      "7  09-20-2023\n",
      "8  06-04-2018\n",
      "9  09-07-2023\n"
     ]
    }
   ],
   "source": [
    "import pandas as pd\n",
    "\n",
    "\n",
    "df = pd.read_csv(\"traffic_accidents123.csv\")\n",
    "\n",
    "df['crash_date'] = pd.to_datetime(df['crash_date'], errors='coerce')\n",
    "\n",
    "\n",
    "df['crash_date'] = df['crash_date'].dt.strftime(\"%m-%d-%Y\")\n",
    "\n",
    "\n",
    "df.to_csv(\"traffic_accidents_cleaned.csv\", index=False)\n",
    "\n",
    "print(df[['crash_date']].head(10))\n"
   ]
  },
  {
   "cell_type": "code",
   "execution_count": 74,
   "id": "42623bf8-35c7-43be-9039-19c6dcfa47ab",
   "metadata": {},
   "outputs": [
    {
     "name": "stdout",
     "output_type": "stream",
     "text": [
      "All duplicates removed! File saved as 'traffic_accidents_no_duplicates.csv'\n"
     ]
    }
   ],
   "source": [
    "import pandas as pd\n",
    "\n",
    "\n",
    "df = pd.read_csv(\"traffic_accidents123.csv\")\n",
    "\n",
    "\n",
    "df_cleaned = df.drop_duplicates(keep=\"first\")\n",
    "\n",
    "\n",
    "df_cleaned.to_csv(\"traffic_accidents_no_duplicates.csv\", index=False)\n",
    "\n",
    "print(\"All duplicates removed! File saved as 'traffic_accidents_no_duplicates.csv'\")\n",
    "\n"
   ]
  },
  {
   "cell_type": "code",
   "execution_count": 77,
   "id": "d63c6d77-5103-46ad-9bbc-924b2f374484",
   "metadata": {},
   "outputs": [
    {
     "name": "stderr",
     "output_type": "stream",
     "text": [
      "C:\\Users\\Windows 10 Pro\\AppData\\Local\\Temp\\ipykernel_17196\\4037573572.py:12: UserWarning: Could not infer format, so each element will be parsed individually, falling back to `dateutil`. To ensure parsing is consistent and as-expected, please specify a format.\n",
      "  df[\"crash_time\"] = pd.to_datetime(df[\"crash_time\"], errors=\"coerce\").dt.strftime(\"%H:%M:%S\")\n"
     ]
    },
    {
     "name": "stdout",
     "output_type": "stream",
     "text": [
      "✅ Cleaning complete! Saved as 'traffic_accidents_cleaned.csv'\n"
     ]
    }
   ],
   "source": [
    "import pandas as pd\n",
    "\n",
    "\n",
    "file_path = \"traffic_accidents123.csv\"\n",
    "df = pd.read_csv(file_path)\n",
    "df = df.drop_duplicates()\n",
    "if \"crash_date\" in df.columns:\n",
    "    df[\"crash_date\"] = pd.to_datetime(df[\"crash_date\"], errors=\"coerce\")\n",
    "    df[\"crash_date\"] = df[\"crash_date\"].dt.strftime(\"%m-%d-%Y\")\n",
    "\n",
    "if \"crash_time\" in df.columns:\n",
    "    df[\"crash_time\"] = pd.to_datetime(df[\"crash_time\"], errors=\"coerce\").dt.strftime(\"%H:%M:%S\")\n",
    "\n",
    "df = df.fillna({\n",
    "    \"crash_date\": \"Unknown\",\n",
    "    \"crash_time\": \"Unknown\",\n",
    "    \"damage\": \"UNKNOWN\",\n",
    "    \"prim_contributory_cause\": \"UNKNOWN\"\n",
    "})\n",
    "\n",
    "\n",
    "cat_cols = [\n",
    "    \"lighting_condition\", \"first_crash_type\", \"trafficway_type\",\n",
    "    \"alignment\", \"roadway_surface_cond\", \"road_defect\",\n",
    "    \"crash_type\", \"intersection_related_i\", \"damage\",\n",
    "    \"prim_contributory_cause\", \"most_severe_injury\"\n",
    "]\n",
    "for col in cat_cols:\n",
    "    if col in df.columns:\n",
    "        df[col] = df[col].astype(str).str.strip().str.upper()\n",
    "\n",
    "if set([\"injuries_total\", \"injuries_fatal\", \"injuries_incapacitating\",\n",
    "        \"injuries_non_incapacitating\", \"injuries_reported_not_evident\",\n",
    "        \"injuries_no_indication\"]).issubset(df.columns):\n",
    "\n",
    "    df[\"injuries_check\"] = (\n",
    "        df[\"injuries_fatal\"] +\n",
    "        df[\"injuries_incapacitating\"] +\n",
    "        df[\"injuries_non_incapacitating\"] +\n",
    "        df[\"injuries_reported_not_evident\"] +\n",
    "        df[\"injuries_no_indication\"]\n",
    "    )\n",
    "\n",
    "   \n",
    "    df[\"injury_mismatch\"] = df[\"injuries_total\"] != df[\"injuries_check\"]\n",
    "\n",
    "\n",
    "df.to_csv(\"traffic_accidents_cleaned.csv\", index=False)\n",
    "print(\"✅ Cleaning complete! Saved as 'traffic_accidents_cleaned.csv'\")\n"
   ]
  },
  {
   "cell_type": "code",
   "execution_count": 81,
   "id": "ac8c2f94-e87a-4a25-9fb2-2725a32b1138",
   "metadata": {},
   "outputs": [],
   "source": [
    "df.to_csv(\"traffic_accidents_cleaned.csv\", index=False)\n",
    "\n"
   ]
  },
  {
   "cell_type": "code",
   "execution_count": 83,
   "id": "5408697f-35e2-4367-be8f-26b583f63aa9",
   "metadata": {},
   "outputs": [
    {
     "name": "stdout",
     "output_type": "stream",
     "text": [
      "crash_date                       0\n",
      "crash_time                       0\n",
      "AM/PM                            1\n",
      "lighting_condition               0\n",
      "first_crash_type                 0\n",
      "trafficway_type                  0\n",
      "alignment                        0\n",
      "roadway_surface_cond             0\n",
      "road_defect                      0\n",
      "crash_type                       0\n",
      "intersection_related_i           0\n",
      "damage                           0\n",
      "prim_contributory_cause          0\n",
      "num_units                        1\n",
      "most_severe_injury               0\n",
      "injuries_total                   1\n",
      "injuries_fatal                   1\n",
      "injuries_incapacitating          1\n",
      "injuries_non_incapacitating      1\n",
      "injuries_reported_not_evident    1\n",
      "injuries_no_indication           1\n",
      "crash_hour                       1\n",
      "crash_day_of_week                1\n",
      "crash_month                      1\n",
      "injuries_check                   1\n",
      "injury_mismatch                  0\n",
      "dtype: int64\n",
      "crash_date                       0.0\n",
      "crash_time                       0.0\n",
      "AM/PM                            0.0\n",
      "lighting_condition               0.0\n",
      "first_crash_type                 0.0\n",
      "trafficway_type                  0.0\n",
      "alignment                        0.0\n",
      "roadway_surface_cond             0.0\n",
      "road_defect                      0.0\n",
      "crash_type                       0.0\n",
      "intersection_related_i           0.0\n",
      "damage                           0.0\n",
      "prim_contributory_cause          0.0\n",
      "num_units                        0.0\n",
      "most_severe_injury               0.0\n",
      "injuries_total                   0.0\n",
      "injuries_fatal                   0.0\n",
      "injuries_incapacitating          0.0\n",
      "injuries_non_incapacitating      0.0\n",
      "injuries_reported_not_evident    0.0\n",
      "injuries_no_indication           0.0\n",
      "crash_hour                       0.0\n",
      "crash_day_of_week                0.0\n",
      "crash_month                      0.0\n",
      "injuries_check                   0.0\n",
      "injury_mismatch                  0.0\n",
      "dtype: float64\n"
     ]
    }
   ],
   "source": [
    "df = pd.read_csv(\"traffic_accidents_cleaned.csv\")  \n",
    "print(df.isnull().sum())\n",
    "print((df.isnull().mean() * 100).round(2))\n"
   ]
  },
  {
   "cell_type": "code",
   "execution_count": 84,
   "id": "7af95a78-d285-4261-a7ed-65404e531790",
   "metadata": {},
   "outputs": [],
   "source": [
    "df = df.dropna()\n"
   ]
  },
  {
   "cell_type": "code",
   "execution_count": 85,
   "id": "664d181f-f648-4b5c-a56a-aca2b31a7ef7",
   "metadata": {},
   "outputs": [
    {
     "name": "stdout",
     "output_type": "stream",
     "text": [
      "crash_date                       0\n",
      "crash_time                       0\n",
      "AM/PM                            1\n",
      "lighting_condition               0\n",
      "first_crash_type                 0\n",
      "trafficway_type                  0\n",
      "alignment                        0\n",
      "roadway_surface_cond             0\n",
      "road_defect                      0\n",
      "crash_type                       0\n",
      "intersection_related_i           0\n",
      "damage                           0\n",
      "prim_contributory_cause          0\n",
      "num_units                        1\n",
      "most_severe_injury               0\n",
      "injuries_total                   1\n",
      "injuries_fatal                   1\n",
      "injuries_incapacitating          1\n",
      "injuries_non_incapacitating      1\n",
      "injuries_reported_not_evident    1\n",
      "injuries_no_indication           1\n",
      "crash_hour                       1\n",
      "crash_day_of_week                1\n",
      "crash_month                      1\n",
      "injuries_check                   1\n",
      "injury_mismatch                  0\n",
      "dtype: int64\n",
      "crash_date                       0.0\n",
      "crash_time                       0.0\n",
      "AM/PM                            0.0\n",
      "lighting_condition               0.0\n",
      "first_crash_type                 0.0\n",
      "trafficway_type                  0.0\n",
      "alignment                        0.0\n",
      "roadway_surface_cond             0.0\n",
      "road_defect                      0.0\n",
      "crash_type                       0.0\n",
      "intersection_related_i           0.0\n",
      "damage                           0.0\n",
      "prim_contributory_cause          0.0\n",
      "num_units                        0.0\n",
      "most_severe_injury               0.0\n",
      "injuries_total                   0.0\n",
      "injuries_fatal                   0.0\n",
      "injuries_incapacitating          0.0\n",
      "injuries_non_incapacitating      0.0\n",
      "injuries_reported_not_evident    0.0\n",
      "injuries_no_indication           0.0\n",
      "crash_hour                       0.0\n",
      "crash_day_of_week                0.0\n",
      "crash_month                      0.0\n",
      "injuries_check                   0.0\n",
      "injury_mismatch                  0.0\n",
      "dtype: float64\n"
     ]
    }
   ],
   "source": [
    "df = pd.read_csv(\"traffic_accidents_cleaned.csv\")  \n",
    "print(df.isnull().sum())\n",
    "print((df.isnull().mean() * 100).round(2))"
   ]
  },
  {
   "cell_type": "code",
   "execution_count": 86,
   "id": "b969924f-e5dd-49d1-8f3f-1d2b436d9b30",
   "metadata": {},
   "outputs": [],
   "source": [
    "\n",
    "cat_cols = [\"AM/PM\", \"prim_contributory_cause\", \"most_severe_injury\"]\n",
    "df[cat_cols] = df[cat_cols].fillna(\"UNKNOWN\")\n",
    "\n",
    "\n",
    "num_cols = [\n",
    "    \"num_units\", \"injuries_total\", \"injuries_fatal\",\n",
    "    \"injuries_incapacitating\", \"injuries_non_incapacitating\",\n",
    "    \"injuries_reported_not_evident\", \"injuries_no_indication\",\n",
    "    \"crash_hour\", \"crash_day_of_week\", \"crash_month\",\n",
    "    \"injuries_check\"\n",
    "]\n",
    "df[num_cols] = df[num_cols].fillna(0)\n"
   ]
  },
  {
   "cell_type": "code",
   "execution_count": 87,
   "id": "ad2764ce-6a7b-48bd-b568-89074465a5bc",
   "metadata": {},
   "outputs": [
    {
     "name": "stdout",
     "output_type": "stream",
     "text": [
      "crash_date                       0\n",
      "crash_time                       0\n",
      "AM/PM                            1\n",
      "lighting_condition               0\n",
      "first_crash_type                 0\n",
      "trafficway_type                  0\n",
      "alignment                        0\n",
      "roadway_surface_cond             0\n",
      "road_defect                      0\n",
      "crash_type                       0\n",
      "intersection_related_i           0\n",
      "damage                           0\n",
      "prim_contributory_cause          0\n",
      "num_units                        1\n",
      "most_severe_injury               0\n",
      "injuries_total                   1\n",
      "injuries_fatal                   1\n",
      "injuries_incapacitating          1\n",
      "injuries_non_incapacitating      1\n",
      "injuries_reported_not_evident    1\n",
      "injuries_no_indication           1\n",
      "crash_hour                       1\n",
      "crash_day_of_week                1\n",
      "crash_month                      1\n",
      "injuries_check                   1\n",
      "injury_mismatch                  0\n",
      "dtype: int64\n",
      "crash_date                       0.0\n",
      "crash_time                       0.0\n",
      "AM/PM                            0.0\n",
      "lighting_condition               0.0\n",
      "first_crash_type                 0.0\n",
      "trafficway_type                  0.0\n",
      "alignment                        0.0\n",
      "roadway_surface_cond             0.0\n",
      "road_defect                      0.0\n",
      "crash_type                       0.0\n",
      "intersection_related_i           0.0\n",
      "damage                           0.0\n",
      "prim_contributory_cause          0.0\n",
      "num_units                        0.0\n",
      "most_severe_injury               0.0\n",
      "injuries_total                   0.0\n",
      "injuries_fatal                   0.0\n",
      "injuries_incapacitating          0.0\n",
      "injuries_non_incapacitating      0.0\n",
      "injuries_reported_not_evident    0.0\n",
      "injuries_no_indication           0.0\n",
      "crash_hour                       0.0\n",
      "crash_day_of_week                0.0\n",
      "crash_month                      0.0\n",
      "injuries_check                   0.0\n",
      "injury_mismatch                  0.0\n",
      "dtype: float64\n"
     ]
    }
   ],
   "source": [
    "df = pd.read_csv(\"traffic_accidents_cleaned.csv\")  \n",
    "print(df.isnull().sum())\n",
    "print((df.isnull().mean() * 100).round(2))"
   ]
  },
  {
   "cell_type": "code",
   "execution_count": 93,
   "id": "edee9f4e-47e2-4359-9c53-5ac4e4d0f092",
   "metadata": {},
   "outputs": [
    {
     "name": "stdout",
     "output_type": "stream",
     "text": [
      "       crash_date crash_time AM/PM lighting_condition first_crash_type  \\\n",
      "209265    Unknown    Unknown   NaN                NAN              NAN   \n",
      "\n",
      "       trafficway_type alignment roadway_surface_cond road_defect crash_type  \\\n",
      "209265             NAN       NAN                  NAN         NAN        NAN   \n",
      "\n",
      "        ... injuries_fatal injuries_incapacitating  \\\n",
      "209265  ...            NaN                     NaN   \n",
      "\n",
      "       injuries_non_incapacitating  injuries_reported_not_evident  \\\n",
      "209265                         NaN                            NaN   \n",
      "\n",
      "       injuries_no_indication  crash_hour  crash_day_of_week  crash_month  \\\n",
      "209265                    NaN         NaN                NaN          NaN   \n",
      "\n",
      "        injuries_check  injury_mismatch  \n",
      "209265             NaN             True  \n",
      "\n",
      "[1 rows x 26 columns]\n"
     ]
    }
   ],
   "source": [
    "missing_rows = df[df.isnull().any(axis=1)]\n",
    "print(missing_rows)\n",
    "\n"
   ]
  },
  {
   "cell_type": "code",
   "execution_count": 94,
   "id": "e69c419d-88f0-41b1-b84e-3bf0892ab021",
   "metadata": {},
   "outputs": [],
   "source": [
    "df = df.fillna({\n",
    "    \"AM/PM\": \"UNKNOWN\",\n",
    "    \"prim_contributory_cause\": \"UNKNOWN\",\n",
    "    \"most_severe_injury\": \"UNKNOWN\",\n",
    "    \"num_units\": 0,\n",
    "    \"injuries_total\": 0,\n",
    "    \"injuries_fatal\": 0,\n",
    "    \"injuries_incapacitating\": 0,\n",
    "    \"injuries_non_incapacitating\": 0,\n",
    "    \"injuries_reported_not_evident\": 0,\n",
    "    \"injuries_no_indication\": 0,\n",
    "    \"crash_hour\": 0,\n",
    "    \"crash_day_of_week\": 0,\n",
    "    \"crash_month\": 0,\n",
    "    \"injuries_check\": 0\n",
    "})\n"
   ]
  },
  {
   "cell_type": "code",
   "execution_count": 90,
   "id": "a8d264d0-4bc8-45b6-b6df-5de32b71e708",
   "metadata": {},
   "outputs": [
    {
     "name": "stdout",
     "output_type": "stream",
     "text": [
      "✅ Final dataset saved without missing values.\n"
     ]
    }
   ],
   "source": [
    "df.to_csv(\"traffic_accidents_final.csv\", index=False)\n",
    "print(\"✅ Final dataset saved without missing values.\")\n"
   ]
  },
  {
   "cell_type": "code",
   "execution_count": 95,
   "id": "41024607-56a5-4eb2-a117-c7d51590f6e1",
   "metadata": {},
   "outputs": [
    {
     "name": "stdout",
     "output_type": "stream",
     "text": [
      "Empty DataFrame\n",
      "Columns: [crash_date, crash_time, AM/PM, lighting_condition, first_crash_type, trafficway_type, alignment, roadway_surface_cond, road_defect, crash_type, intersection_related_i, damage, prim_contributory_cause, num_units, most_severe_injury, injuries_total, injuries_fatal, injuries_incapacitating, injuries_non_incapacitating, injuries_reported_not_evident, injuries_no_indication, crash_hour, crash_day_of_week, crash_month, injuries_check, injury_mismatch]\n",
      "Index: []\n",
      "\n",
      "[0 rows x 26 columns]\n"
     ]
    }
   ],
   "source": [
    "missing_rows = df[df.isnull().any(axis=1)]\n",
    "print(missing_rows)"
   ]
  },
  {
   "cell_type": "code",
   "execution_count": 96,
   "id": "b1b9fb19-3e5b-4135-9f5c-c3b0ef6166a8",
   "metadata": {},
   "outputs": [
    {
     "name": "stdout",
     "output_type": "stream",
     "text": [
      "✅ Final dataset saved without missing values.\n"
     ]
    }
   ],
   "source": [
    "df.to_csv(\"traffic_accidents_final.csv\", index=False)\n",
    "print(\"✅ Final dataset saved without missing values.\")\n"
   ]
  },
  {
   "cell_type": "code",
   "execution_count": 98,
   "id": "7aa69d65-44f5-4422-a798-f39c98ca80b3",
   "metadata": {},
   "outputs": [
    {
     "name": "stdout",
     "output_type": "stream",
     "text": [
      "Collecting openpyxl\n",
      "  Downloading openpyxl-3.1.5-py2.py3-none-any.whl.metadata (2.5 kB)\n",
      "Collecting et-xmlfile (from openpyxl)\n",
      "  Downloading et_xmlfile-2.0.0-py3-none-any.whl.metadata (2.7 kB)\n",
      "Downloading openpyxl-3.1.5-py2.py3-none-any.whl (250 kB)\n",
      "Downloading et_xmlfile-2.0.0-py3-none-any.whl (18 kB)\n",
      "Installing collected packages: et-xmlfile, openpyxl\n",
      "\n",
      "   -------------------- ------------------- 1/2 [openpyxl]\n",
      "   -------------------- ------------------- 1/2 [openpyxl]\n",
      "   -------------------- ------------------- 1/2 [openpyxl]\n",
      "   -------------------- ------------------- 1/2 [openpyxl]\n",
      "   -------------------- ------------------- 1/2 [openpyxl]\n",
      "   -------------------- ------------------- 1/2 [openpyxl]\n",
      "   ---------------------------------------- 2/2 [openpyxl]\n",
      "\n",
      "Successfully installed et-xmlfile-2.0.0 openpyxl-3.1.5\n"
     ]
    }
   ],
   "source": [
    "!pip install openpyxl\n"
   ]
  },
  {
   "cell_type": "code",
   "execution_count": 99,
   "id": "9aec832a-edba-4598-aaa6-0419bd275447",
   "metadata": {},
   "outputs": [],
   "source": [
    "import pandas as pd\n",
    "\n",
    "# Load your dataset\n",
    "df = pd.read_excel(\"Copy of traffic_accidents_lastest dit.xlsx\")\n",
    "\n",
    "# Continue your analysis...\n"
   ]
  }
 ],
 "metadata": {
  "kernelspec": {
   "display_name": "Python 3 (ipykernel)",
   "language": "python",
   "name": "python3"
  },
  "language_info": {
   "codemirror_mode": {
    "name": "ipython",
    "version": 3
   },
   "file_extension": ".py",
   "mimetype": "text/x-python",
   "name": "python",
   "nbconvert_exporter": "python",
   "pygments_lexer": "ipython3",
   "version": "3.13.5"
  }
 },
 "nbformat": 4,
 "nbformat_minor": 5
}
